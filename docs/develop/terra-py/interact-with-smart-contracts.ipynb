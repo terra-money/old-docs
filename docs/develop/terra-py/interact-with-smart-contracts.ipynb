{
 "cells": [
  {
   "cell_type": "markdown",
   "id": "ea6bdc31",
   "metadata": {},
   "source": [
    "# How to Interact with Terra Smart Contracts"
   ]
  },
  {
   "cell_type": "code",
   "execution_count": null,
   "id": "c1122a94",
   "metadata": {},
   "outputs": [],
   "source": [
    "from terra_sdk.client.lcd.api.tx import CreateTxOptions\n",
    "from terra_sdk.core.wasm import MsgExecuteContract\n",
    "from terra_sdk.key.mnemonic import MnemonicKey\n",
    "from terra_sdk.client.lcd import LCDClient\n",
    "from terra_sdk.core import Coins, Coin\n",
    "import requests, json"
   ]
  },
  {
   "cell_type": "markdown",
   "id": "988a6cd1",
   "metadata": {},
   "source": [
    "### Initialize Client & Wallet\n",
    "\n",
    "**Note:** _Only uncomment the code block which corresponds to the network on which you would like to carry out transactions and comment out the other code blocks. In this notebook, we utilize testnet in order to interact with a smart contract in a testing environment._"
   ]
  },
  {
   "cell_type": "markdown",
   "id": "b6dcda8b",
   "metadata": {},
   "source": [
    "##### Testnet"
   ]
  },
  {
   "cell_type": "code",
   "execution_count": null,
   "id": "7e0db4f6",
   "metadata": {},
   "outputs": [],
   "source": [
    "# Create client to communicate with testnet.\n",
    "terra = LCDClient(\n",
    "    url=\"https://bombay-lcd.terra.dev/\",\n",
    "    chain_id=\"bombay-12\"\n",
    ")\n",
    "\n",
    "# Initialize wallet with associated mnemonic key.\n",
    "mk = MnemonicKey(mnemonic=\"<INSERT MNEMONIC KEY HERE>\")\n",
    "wallet = terra.wallet(mk)\n"
   ]
  },
  {
   "cell_type": "markdown",
   "id": "e733c238",
   "metadata": {},
   "source": [
    "##### Mainnet"
   ]
  },
  {
   "cell_type": "code",
   "execution_count": null,
   "id": "e8c811d1",
   "metadata": {},
   "outputs": [],
   "source": [
    "# # Create client to communicate with mainnet.\n",
    "# terra = LCDClient(\n",
    "#     url=\"https://lcd.terra.dev\",\n",
    "#     chain_id=\"columbus-5\"\n",
    "# )\n",
    "\n",
    "# # Initialize wallet with associated mnemonic key.\n",
    "# mk = MnemonicKey(mnemonic=\"<INSERT MNEMONIC KEY HERE>\")\n",
    "# wallet = terra.wallet(mk)"
   ]
  },
  {
   "cell_type": "markdown",
   "id": "1e72f73e",
   "metadata": {},
   "source": [
    "### Set & View Gas Prices"
   ]
  },
  {
   "cell_type": "code",
   "execution_count": null,
   "id": "4e94fdb3",
   "metadata": {},
   "outputs": [],
   "source": [
    "# Request current gas rates for future fee estimation.\n",
    "gas_price_dict = requests.get(\"https://fcd.terra.dev/v1/txs/gas_prices\").json()\n",
    "gas_price_dict"
   ]
  },
  {
   "cell_type": "markdown",
   "id": "80fa82e0",
   "metadata": {},
   "source": [
    "---\n",
    "\n",
    "## Deposit UST into Anchor\n",
    "\n",
    "---"
   ]
  },
  {
   "cell_type": "markdown",
   "id": "610acacf",
   "metadata": {},
   "source": [
    "**Note:** _Anchor is a decentralized savings protocol which offers low-volatile yields on Terra stablecoin deposits. In this example, we will deposit 1 UST into Anchor utilizing the Terra Python SDK. You may interact with Anchor by going to the [Anchor EARN page](https://app.anchorprotocol.com/earn)._"
   ]
  },
  {
   "cell_type": "markdown",
   "id": "fd7487b8",
   "metadata": {},
   "source": [
    "### Set Relevant Transaction Parameters"
   ]
  },
  {
   "cell_type": "code",
   "execution_count": null,
   "id": "e656f9ab",
   "metadata": {},
   "outputs": [],
   "source": [
    "# Initialize sender wallet and testnet Anchor smart contract addresses.\n",
    "sender_address = wallet.key.acc_address\n",
    "anchor_contract_address = 'terra15dwd5mj8v59wpj0wvt233mf5efdff808c5tkal'\n",
    "\n",
    "# Set relevant parameters for transactions.\n",
    "tx_options = CreateTxOptions(\n",
    "    msgs=[\n",
    "        MsgExecuteContract(\n",
    "            sender=sender_address,\n",
    "            contract=anchor_contract_address,\n",
    "            execute_msg={\"deposit_stable\": {}},\n",
    "            coins=Coins([Coin(\"uusd\", 1000000)])\n",
    "        )\n",
    "    ],\n",
    "    gas=\"auto\",\n",
    "    gas_prices=Coins(gas_price_dict),\n",
    "    fee_denoms=\"uusd\",\n",
    "    gas_adjustment=1.5\n",
    ")"
   ]
  },
  {
   "cell_type": "markdown",
   "id": "ec75b627",
   "metadata": {},
   "source": [
    "### Create, Sign & Execute Transaction"
   ]
  },
  {
   "cell_type": "code",
   "execution_count": null,
   "id": "7cb229d2",
   "metadata": {},
   "outputs": [],
   "source": [
    "# Create and sign transaction.\n",
    "tx = wallet.create_and_sign_tx(options=tx_options)\n",
    "\n",
    "# Broadcast the request for execution to the Terra node.\n",
    "result = terra.tx.broadcast(tx)"
   ]
  },
  {
   "cell_type": "markdown",
   "id": "3131d3ec",
   "metadata": {},
   "source": [
    "### Print Transaction Information\n",
    "\n",
    "**Note:** _Helper functions are only available if helper-functions.ipynb is in the same directory as this Jupyter Notebook. Run from cloned repository to ensure proper function._"
   ]
  },
  {
   "cell_type": "code",
   "execution_count": null,
   "id": "644b35c1",
   "metadata": {},
   "outputs": [],
   "source": [
    "# Utilize print helper function to neatly print out transaction information.\n",
    "# This is only available if helper-functions.ipynb is in this directory.\n",
    "%run helper-functions.ipynb\n",
    "print_message(result)"
   ]
  }
 ],
 "metadata": {
  "kernelspec": {
   "display_name": "Python 3 (ipykernel)",
   "language": "python",
   "name": "python3"
  },
  "language_info": {
   "codemirror_mode": {
    "name": "ipython",
    "version": 3
   },
   "file_extension": ".py",
   "mimetype": "text/x-python",
   "name": "python",
   "nbconvert_exporter": "python",
   "pygments_lexer": "ipython3",
   "version": "3.9.7"
  }
 },
 "nbformat": 4,
 "nbformat_minor": 5
}
