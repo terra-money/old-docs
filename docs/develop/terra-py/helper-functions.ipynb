{
 "cells": [
  {
   "cell_type": "code",
   "execution_count": null,
   "id": "4955c796",
   "metadata": {},
   "outputs": [],
   "source": [
    "class style:\n",
    "    \"\"\"A class for easy utilization of text styling.\"\"\"\n",
    "\n",
    "    UNDERLINE = \"\\033[4m\"\n",
    "    BOLD = \"\\033[1m\"\n",
    "    END = \"\\033[0m\"\n",
    "\n",
    "\n",
    "def print_message(result):\n",
    "    \"\"\"\n",
    "    Neatly prints relevant information from the result variable.\n",
    "    \n",
    "    Arguments:\n",
    "        result: A BlockTxBroadcastResult object containing relevant information on\n",
    "            a request processed on a Terra node.\n",
    "    \"\"\"\n",
    "    \n",
    "    # If transaction successfully processed, print relevant transaction information.\n",
    "    if result.code == 0:\n",
    "        print(\n",
    "        f\"\"\"{style.UNDERLINE}Transaction Info{style.END}\\n\n",
    "        {style.BOLD}Transaction Hash{style.END}: {result.txhash}\n",
    "        {style.BOLD}Block Height{style.END}: {result.height}\n",
    "        {style.BOLD}Gas Wanted{style.END}: {result.gas_wanted}\n",
    "        {style.BOLD}Gas Used{style.END}: {result.gas_used}\n",
    "        {style.BOLD}Code{style.END}: {result.code}\"\"\"\n",
    "        )\n",
    "        for k, v in result.logs[0].events_by_type.items():\n",
    "            print(f\"\\n{style.UNDERLINE}{k.replace('_', ' ').title()}{style.END}\\n\")\n",
    "            for k, v in v.items():\n",
    "                for i, sub_v in enumerate(v):\n",
    "                    counter = f'{i+1}' if len(v) > 1 else ''\n",
    "                    print(f\"\\t{style.BOLD}{k.title()}{counter}{style.END}: {sub_v}\")\n",
    "\n",
    "    # If transaction failed to process, print descriptive error message.\n",
    "    else:\n",
    "        print(f\"{style.BOLD}Error{style.END}: {result.raw_log.split(';')[0].title()}\")"
   ]
  }
 ],
 "metadata": {
  "kernelspec": {
   "display_name": "Python 3 (ipykernel)",
   "language": "python",
   "name": "python3"
  },
  "language_info": {
   "codemirror_mode": {
    "name": "ipython",
    "version": 3
   },
   "file_extension": ".py",
   "mimetype": "text/x-python",
   "name": "python",
   "nbconvert_exporter": "python",
   "pygments_lexer": "ipython3",
   "version": "3.9.7"
  }
 },
 "nbformat": 4,
 "nbformat_minor": 5
}
